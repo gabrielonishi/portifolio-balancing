{
 "cells": [
  {
   "cell_type": "code",
   "execution_count": 1,
   "metadata": {},
   "outputs": [],
   "source": [
    "import pathlib\n",
    "import camelot\n",
    "import pickle\n",
    "import pandas as pd\n",
    "import yfinance as yf\n",
    "import matplotlib.pyplot as plt"
   ]
  },
  {
   "cell_type": "code",
   "execution_count": 2,
   "metadata": {},
   "outputs": [],
   "source": [
    "DATA_DIR = pathlib.Path.cwd().parent / 'data'\n",
    "RAW_DATA_DIR = DATA_DIR / 'raw'"
   ]
  },
  {
   "cell_type": "code",
   "execution_count": 36,
   "metadata": {},
   "outputs": [
    {
     "data": {
      "image/png": "[encoded data removed]",
      "text/plain": [
       "<Figure size 640x480 with 1 Axes>"
      ]
     },
     "metadata": {},
     "output_type": "display_data"
    }
   ],
   "source": [
    "# Testing different values for table_areas\n",
    "filepath = RAW_DATA_DIR / '2021-11.pdf'\n",
    "table_areas = ['20,150,710,20']\n",
    "tables = camelot.read_pdf(str(filepath), flavor='stream', edge_tol=500, table_areas = table_areas)\n",
    "camelot.plot(tables[0], kind='contour')\n",
    "plt.show()"
   ]
  },
  {
   "cell_type": "code",
   "execution_count": 39,
   "metadata": {},
   "outputs": [
    {
     "name": "stdout",
     "output_type": "stream",
     "text": [
      "{'accuracy': 100.0, 'whitespace': 0.0, 'order': 1, 'page': 1}\n"
     ]
    },
    {
     "data": {
      "text/html": [
       "<div>\n",
       "<style scoped>\n",
       "    .dataframe tbody tr th:only-of-type {\n",
       "        vertical-align: middle;\n",
       "    }\n",
       "\n",
       "    .dataframe tbody tr th {\n",
       "        vertical-align: top;\n",
       "    }\n",
       "\n",
       "    .dataframe thead th {\n",
       "        text-align: right;\n",
       "    }\n",
       "</style>\n",
       "<table border=\"1\" class=\"dataframe\">\n",
       "  <thead>\n",
       "    <tr style=\"text-align: right;\">\n",
       "      <th></th>\n",
       "      <th>0</th>\n",
       "      <th>1</th>\n",
       "      <th>2</th>\n",
       "      <th>3</th>\n",
       "      <th>4</th>\n",
       "      <th>5</th>\n",
       "      <th>6</th>\n",
       "      <th>7</th>\n",
       "    </tr>\n",
       "  </thead>\n",
       "  <tbody>\n",
       "    <tr>\n",
       "      <th>0</th>\n",
       "      <td>Arezzo</td>\n",
       "      <td>ARZZ3</td>\n",
       "      <td>10%</td>\n",
       "      <td>Compra</td>\n",
       "      <td>R$ 75,96</td>\n",
       "      <td>R$ 108,00</td>\n",
       "      <td>42%</td>\n",
       "      <td>R$ 7,8</td>\n",
       "    </tr>\n",
       "    <tr>\n",
       "      <th>1</th>\n",
       "      <td>Assaí</td>\n",
       "      <td>ASAI3</td>\n",
       "      <td>10%</td>\n",
       "      <td>Compra</td>\n",
       "      <td>R$ 15,65</td>\n",
       "      <td>R$ 23,00</td>\n",
       "      <td>47%</td>\n",
       "      <td>R$ 21,1</td>\n",
       "    </tr>\n",
       "    <tr>\n",
       "      <th>2</th>\n",
       "      <td>Banco do Brasil</td>\n",
       "      <td>BBAS3</td>\n",
       "      <td>10%</td>\n",
       "      <td>Compra</td>\n",
       "      <td>R$ 28,91</td>\n",
       "      <td>R$ 52,00</td>\n",
       "      <td>80%</td>\n",
       "      <td>R$ 82,4</td>\n",
       "    </tr>\n",
       "    <tr>\n",
       "      <th>3</th>\n",
       "      <td>Gerdau</td>\n",
       "      <td>GGBR4</td>\n",
       "      <td>10%</td>\n",
       "      <td>Compra</td>\n",
       "      <td>R$ 27,40</td>\n",
       "      <td>R$ 32,00</td>\n",
       "      <td>17%</td>\n",
       "      <td>R$ 46,7</td>\n",
       "    </tr>\n",
       "    <tr>\n",
       "      <th>4</th>\n",
       "      <td>Localiza</td>\n",
       "      <td>RENT3</td>\n",
       "      <td>10%</td>\n",
       "      <td>Compra</td>\n",
       "      <td>R$ 45,95</td>\n",
       "      <td>R$ 76,00</td>\n",
       "      <td>65%</td>\n",
       "      <td>R$ 34,9</td>\n",
       "    </tr>\n",
       "    <tr>\n",
       "      <th>5</th>\n",
       "      <td>Multiplan</td>\n",
       "      <td>MULT3</td>\n",
       "      <td>10%</td>\n",
       "      <td>Compra</td>\n",
       "      <td>R$ 18,41</td>\n",
       "      <td>R$ 29,50</td>\n",
       "      <td>60%</td>\n",
       "      <td>R$ 11,1</td>\n",
       "    </tr>\n",
       "    <tr>\n",
       "      <th>6</th>\n",
       "      <td>RaiaDrogasil</td>\n",
       "      <td>RADL3</td>\n",
       "      <td>10%</td>\n",
       "      <td>Compra</td>\n",
       "      <td>R$ 22,71</td>\n",
       "      <td>R$ 27,00</td>\n",
       "      <td>19%</td>\n",
       "      <td>R$ 38,0</td>\n",
       "    </tr>\n",
       "    <tr>\n",
       "      <th>7</th>\n",
       "      <td>São Martinho</td>\n",
       "      <td>SMTO3</td>\n",
       "      <td>10%</td>\n",
       "      <td>Compra</td>\n",
       "      <td>R$ 37,38</td>\n",
       "      <td>R$ 38,00</td>\n",
       "      <td>2%</td>\n",
       "      <td>R$ 13,0</td>\n",
       "    </tr>\n",
       "    <tr>\n",
       "      <th>8</th>\n",
       "      <td>Vale</td>\n",
       "      <td>VALE3</td>\n",
       "      <td>10%</td>\n",
       "      <td>Compra</td>\n",
       "      <td>R$ 73,70</td>\n",
       "      <td>R$ 122,00</td>\n",
       "      <td>66%</td>\n",
       "      <td>R$ 67,4</td>\n",
       "    </tr>\n",
       "    <tr>\n",
       "      <th>9</th>\n",
       "      <td>Weg</td>\n",
       "      <td>WEGE3</td>\n",
       "      <td>10%</td>\n",
       "      <td>Compra</td>\n",
       "      <td>R$ 37,83</td>\n",
       "      <td>R$ 50,00</td>\n",
       "      <td>32%</td>\n",
       "      <td>R$ 158,8</td>\n",
       "    </tr>\n",
       "  </tbody>\n",
       "</table>\n",
       "</div>"
      ],
      "text/plain": [
       "                 0      1    2       3         4          5    6         7\n",
       "0           Arezzo  ARZZ3  10%  Compra  R$ 75,96  R$ 108,00  42%    R$ 7,8\n",
       "1            Assaí  ASAI3  10%  Compra  R$ 15,65   R$ 23,00  47%   R$ 21,1\n",
       "2  Banco do Brasil  BBAS3  10%  Compra  R$ 28,91   R$ 52,00  80%   R$ 82,4\n",
       "3           Gerdau  GGBR4  10%  Compra  R$ 27,40   R$ 32,00  17%   R$ 46,7\n",
       "4         Localiza  RENT3  10%  Compra  R$ 45,95   R$ 76,00  65%   R$ 34,9\n",
       "5        Multiplan  MULT3  10%  Compra  R$ 18,41   R$ 29,50  60%   R$ 11,1\n",
       "6     RaiaDrogasil  RADL3  10%  Compra  R$ 22,71   R$ 27,00  19%   R$ 38,0\n",
       "7     São Martinho  SMTO3  10%  Compra  R$ 37,38   R$ 38,00   2%   R$ 13,0\n",
       "8             Vale  VALE3  10%  Compra  R$ 73,70  R$ 122,00  66%   R$ 67,4\n",
       "9              Weg  WEGE3  10%  Compra  R$ 37,83   R$ 50,00  32%  R$ 158,8"
      ]
     },
     "execution_count": 39,
     "metadata": {},
     "output_type": "execute_result"
    }
   ],
   "source": [
    "print(tables[0].parsing_report)\n",
    "tables[0].df"
   ]
  }
 ],
 "metadata": {
  "kernelspec": {
   "display_name": "env",
   "language": "python",
   "name": "python3"
  },
  "language_info": {
   "codemirror_mode": {
    "name": "ipython",
    "version": 3
   },
   "file_extension": ".py",
   "mimetype": "text/x-python",
   "name": "python",
   "nbconvert_exporter": "python",
   "pygments_lexer": "ipython3",
   "version": "3.10.12"
  }
 },
 "nbformat": 4,
 "nbformat_minor": 2
}
